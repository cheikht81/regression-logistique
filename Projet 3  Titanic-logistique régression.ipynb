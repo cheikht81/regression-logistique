{
 "cells": [
  {
   "cell_type": "code",
   "execution_count": 1,
   "id": "795f4610",
   "metadata": {},
   "outputs": [],
   "source": [
    "import pandas as pd\n",
    "import numpy as np\n",
    "import matplotlib.pyplot as plt\n",
    "import seaborn as sns\n",
    "\n",
    "from sklearn.model_selection import train_test_split\n",
    "from sklearn.linear_model import LinearRegression\n",
    "from sklearn.metrics import mean_squared_error\n",
    "from sklearn import metrics\n",
    "from sklearn.preprocessing import PolynomialFeatures \n",
    "from sklearn.linear_model import LogisticRegression\n",
    "from sklearn.metrics import classification_report"
   ]
  },
  {
   "cell_type": "markdown",
   "id": "23c7d5e1",
   "metadata": {},
   "source": [
    "# 1. Phase de prétraitement :"
   ]
  },
  {
   "cell_type": "markdown",
   "id": "f6177b97",
   "metadata": {},
   "source": [
    "# Import et affichage du jeu de données\n"
   ]
  },
  {
   "cell_type": "code",
   "execution_count": 2,
   "id": "faaee514",
   "metadata": {},
   "outputs": [
    {
     "data": {
      "text/html": [
       "<div>\n",
       "<style scoped>\n",
       "    .dataframe tbody tr th:only-of-type {\n",
       "        vertical-align: middle;\n",
       "    }\n",
       "\n",
       "    .dataframe tbody tr th {\n",
       "        vertical-align: top;\n",
       "    }\n",
       "\n",
       "    .dataframe thead th {\n",
       "        text-align: right;\n",
       "    }\n",
       "</style>\n",
       "<table border=\"1\" class=\"dataframe\">\n",
       "  <thead>\n",
       "    <tr style=\"text-align: right;\">\n",
       "      <th></th>\n",
       "      <th>PassengerId</th>\n",
       "      <th>Survived</th>\n",
       "      <th>Pclass</th>\n",
       "      <th>Name</th>\n",
       "      <th>Sex</th>\n",
       "      <th>Age</th>\n",
       "      <th>SibSp</th>\n",
       "      <th>Parch</th>\n",
       "      <th>Ticket</th>\n",
       "      <th>Fare</th>\n",
       "      <th>Cabin</th>\n",
       "      <th>Embarked</th>\n",
       "    </tr>\n",
       "  </thead>\n",
       "  <tbody>\n",
       "    <tr>\n",
       "      <th>0</th>\n",
       "      <td>343</td>\n",
       "      <td>No</td>\n",
       "      <td>2</td>\n",
       "      <td>Collander, Mr. Erik Gustaf</td>\n",
       "      <td>male</td>\n",
       "      <td>28.0</td>\n",
       "      <td>0</td>\n",
       "      <td>0</td>\n",
       "      <td>248740</td>\n",
       "      <td>13.0000</td>\n",
       "      <td>NaN</td>\n",
       "      <td>S</td>\n",
       "    </tr>\n",
       "    <tr>\n",
       "      <th>1</th>\n",
       "      <td>76</td>\n",
       "      <td>No</td>\n",
       "      <td>3</td>\n",
       "      <td>Moen, Mr. Sigurd Hansen</td>\n",
       "      <td>male</td>\n",
       "      <td>25.0</td>\n",
       "      <td>0</td>\n",
       "      <td>0</td>\n",
       "      <td>348123</td>\n",
       "      <td>7.6500</td>\n",
       "      <td>F G73</td>\n",
       "      <td>S</td>\n",
       "    </tr>\n",
       "    <tr>\n",
       "      <th>2</th>\n",
       "      <td>641</td>\n",
       "      <td>No</td>\n",
       "      <td>3</td>\n",
       "      <td>Jensen, Mr. Hans Peder</td>\n",
       "      <td>male</td>\n",
       "      <td>20.0</td>\n",
       "      <td>0</td>\n",
       "      <td>0</td>\n",
       "      <td>350050</td>\n",
       "      <td>7.8542</td>\n",
       "      <td>NaN</td>\n",
       "      <td>S</td>\n",
       "    </tr>\n",
       "    <tr>\n",
       "      <th>3</th>\n",
       "      <td>568</td>\n",
       "      <td>No</td>\n",
       "      <td>3</td>\n",
       "      <td>Palsson, Mrs. Nils (Alma Cornelia Berglund)</td>\n",
       "      <td>female</td>\n",
       "      <td>29.0</td>\n",
       "      <td>0</td>\n",
       "      <td>4</td>\n",
       "      <td>349909</td>\n",
       "      <td>21.0750</td>\n",
       "      <td>NaN</td>\n",
       "      <td>S</td>\n",
       "    </tr>\n",
       "    <tr>\n",
       "      <th>4</th>\n",
       "      <td>672</td>\n",
       "      <td>No</td>\n",
       "      <td>1</td>\n",
       "      <td>Davidson, Mr. Thornton</td>\n",
       "      <td>male</td>\n",
       "      <td>31.0</td>\n",
       "      <td>1</td>\n",
       "      <td>0</td>\n",
       "      <td>F.C. 12750</td>\n",
       "      <td>52.0000</td>\n",
       "      <td>B71</td>\n",
       "      <td>S</td>\n",
       "    </tr>\n",
       "  </tbody>\n",
       "</table>\n",
       "</div>"
      ],
      "text/plain": [
       "   PassengerId Survived  Pclass                                         Name  \\\n",
       "0          343       No       2                   Collander, Mr. Erik Gustaf   \n",
       "1           76       No       3                      Moen, Mr. Sigurd Hansen   \n",
       "2          641       No       3                       Jensen, Mr. Hans Peder   \n",
       "3          568       No       3  Palsson, Mrs. Nils (Alma Cornelia Berglund)   \n",
       "4          672       No       1                       Davidson, Mr. Thornton   \n",
       "\n",
       "      Sex   Age  SibSp  Parch      Ticket     Fare  Cabin Embarked  \n",
       "0    male  28.0      0      0      248740  13.0000    NaN        S  \n",
       "1    male  25.0      0      0      348123   7.6500  F G73        S  \n",
       "2    male  20.0      0      0      350050   7.8542    NaN        S  \n",
       "3  female  29.0      0      4      349909  21.0750    NaN        S  \n",
       "4    male  31.0      1      0  F.C. 12750  52.0000    B71        S  "
      ]
     },
     "execution_count": 2,
     "metadata": {},
     "output_type": "execute_result"
    }
   ],
   "source": [
    "import pandas as pd\n",
    "df = pd.read_csv('titanic-passengers.csv',sep = \";\")\n",
    "df.head()\n"
   ]
  },
  {
   "cell_type": "markdown",
   "id": "e45a6a77",
   "metadata": {},
   "source": [
    "# Les informations générales sur les colonnes et les valeurs de données."
   ]
  },
  {
   "cell_type": "code",
   "execution_count": 3,
   "id": "59e6793c",
   "metadata": {},
   "outputs": [
    {
     "name": "stdout",
     "output_type": "stream",
     "text": [
      "<class 'pandas.core.frame.DataFrame'>\n",
      "RangeIndex: 891 entries, 0 to 890\n",
      "Data columns (total 12 columns):\n",
      " #   Column       Dtype  \n",
      "---  ------       -----  \n",
      " 0   PassengerId  int64  \n",
      " 1   Survived     object \n",
      " 2   Pclass       int64  \n",
      " 3   Name         object \n",
      " 4   Sex          object \n",
      " 5   Age          float64\n",
      " 6   SibSp        int64  \n",
      " 7   Parch        int64  \n",
      " 8   Ticket       object \n",
      " 9   Fare         float64\n",
      " 10  Cabin        object \n",
      " 11  Embarked     object \n",
      "dtypes: float64(2), int64(4), object(6)\n",
      "memory usage: 83.7+ KB\n"
     ]
    }
   ],
   "source": [
    "df.info(show_counts = False)"
   ]
  },
  {
   "cell_type": "code",
   "execution_count": 4,
   "id": "35b001dd",
   "metadata": {},
   "outputs": [
    {
     "data": {
      "text/html": [
       "<div>\n",
       "<style scoped>\n",
       "    .dataframe tbody tr th:only-of-type {\n",
       "        vertical-align: middle;\n",
       "    }\n",
       "\n",
       "    .dataframe tbody tr th {\n",
       "        vertical-align: top;\n",
       "    }\n",
       "\n",
       "    .dataframe thead th {\n",
       "        text-align: right;\n",
       "    }\n",
       "</style>\n",
       "<table border=\"1\" class=\"dataframe\">\n",
       "  <thead>\n",
       "    <tr style=\"text-align: right;\">\n",
       "      <th></th>\n",
       "      <th>PassengerId</th>\n",
       "      <th>Pclass</th>\n",
       "      <th>Age</th>\n",
       "      <th>SibSp</th>\n",
       "      <th>Parch</th>\n",
       "      <th>Fare</th>\n",
       "    </tr>\n",
       "  </thead>\n",
       "  <tbody>\n",
       "    <tr>\n",
       "      <th>count</th>\n",
       "      <td>891.000000</td>\n",
       "      <td>891.000000</td>\n",
       "      <td>714.000000</td>\n",
       "      <td>891.000000</td>\n",
       "      <td>891.000000</td>\n",
       "      <td>891.000000</td>\n",
       "    </tr>\n",
       "    <tr>\n",
       "      <th>mean</th>\n",
       "      <td>446.000000</td>\n",
       "      <td>2.308642</td>\n",
       "      <td>29.699118</td>\n",
       "      <td>0.523008</td>\n",
       "      <td>0.381594</td>\n",
       "      <td>32.204208</td>\n",
       "    </tr>\n",
       "    <tr>\n",
       "      <th>std</th>\n",
       "      <td>257.353842</td>\n",
       "      <td>0.836071</td>\n",
       "      <td>14.526497</td>\n",
       "      <td>1.102743</td>\n",
       "      <td>0.806057</td>\n",
       "      <td>49.693429</td>\n",
       "    </tr>\n",
       "    <tr>\n",
       "      <th>min</th>\n",
       "      <td>1.000000</td>\n",
       "      <td>1.000000</td>\n",
       "      <td>0.420000</td>\n",
       "      <td>0.000000</td>\n",
       "      <td>0.000000</td>\n",
       "      <td>0.000000</td>\n",
       "    </tr>\n",
       "    <tr>\n",
       "      <th>25%</th>\n",
       "      <td>223.500000</td>\n",
       "      <td>2.000000</td>\n",
       "      <td>20.125000</td>\n",
       "      <td>0.000000</td>\n",
       "      <td>0.000000</td>\n",
       "      <td>7.910400</td>\n",
       "    </tr>\n",
       "    <tr>\n",
       "      <th>50%</th>\n",
       "      <td>446.000000</td>\n",
       "      <td>3.000000</td>\n",
       "      <td>28.000000</td>\n",
       "      <td>0.000000</td>\n",
       "      <td>0.000000</td>\n",
       "      <td>14.454200</td>\n",
       "    </tr>\n",
       "    <tr>\n",
       "      <th>75%</th>\n",
       "      <td>668.500000</td>\n",
       "      <td>3.000000</td>\n",
       "      <td>38.000000</td>\n",
       "      <td>1.000000</td>\n",
       "      <td>0.000000</td>\n",
       "      <td>31.000000</td>\n",
       "    </tr>\n",
       "    <tr>\n",
       "      <th>max</th>\n",
       "      <td>891.000000</td>\n",
       "      <td>3.000000</td>\n",
       "      <td>80.000000</td>\n",
       "      <td>8.000000</td>\n",
       "      <td>6.000000</td>\n",
       "      <td>512.329200</td>\n",
       "    </tr>\n",
       "  </tbody>\n",
       "</table>\n",
       "</div>"
      ],
      "text/plain": [
       "       PassengerId      Pclass         Age       SibSp       Parch        Fare\n",
       "count   891.000000  891.000000  714.000000  891.000000  891.000000  891.000000\n",
       "mean    446.000000    2.308642   29.699118    0.523008    0.381594   32.204208\n",
       "std     257.353842    0.836071   14.526497    1.102743    0.806057   49.693429\n",
       "min       1.000000    1.000000    0.420000    0.000000    0.000000    0.000000\n",
       "25%     223.500000    2.000000   20.125000    0.000000    0.000000    7.910400\n",
       "50%     446.000000    3.000000   28.000000    0.000000    0.000000   14.454200\n",
       "75%     668.500000    3.000000   38.000000    1.000000    0.000000   31.000000\n",
       "max     891.000000    3.000000   80.000000    8.000000    6.000000  512.329200"
      ]
     },
     "execution_count": 4,
     "metadata": {},
     "output_type": "execute_result"
    }
   ],
   "source": [
    "df.describe()"
   ]
  },
  {
   "cell_type": "markdown",
   "id": "74fe4990",
   "metadata": {},
   "source": [
    "# Les valeurs manquantes"
   ]
  },
  {
   "cell_type": "code",
   "execution_count": 5,
   "id": "6d6a752a",
   "metadata": {},
   "outputs": [
    {
     "data": {
      "text/plain": [
       "PassengerId      0\n",
       "Survived         0\n",
       "Pclass           0\n",
       "Name             0\n",
       "Sex              0\n",
       "Age            177\n",
       "SibSp            0\n",
       "Parch            0\n",
       "Ticket           0\n",
       "Fare             0\n",
       "Cabin          687\n",
       "Embarked         2\n",
       "dtype: int64"
      ]
     },
     "execution_count": 5,
     "metadata": {},
     "output_type": "execute_result"
    }
   ],
   "source": [
    "df.isnull().sum()"
   ]
  },
  {
   "cell_type": "markdown",
   "id": "07d0f515",
   "metadata": {},
   "source": [
    "# Remplacer les valeurs maquantes \n",
    "## données numeriques par la moyenne\n",
    "## données categorielles par la valeur la plus frequente"
   ]
  },
  {
   "cell_type": "code",
   "execution_count": 6,
   "id": "e6f99bae",
   "metadata": {},
   "outputs": [
    {
     "data": {
      "text/html": [
       "<div>\n",
       "<style scoped>\n",
       "    .dataframe tbody tr th:only-of-type {\n",
       "        vertical-align: middle;\n",
       "    }\n",
       "\n",
       "    .dataframe tbody tr th {\n",
       "        vertical-align: top;\n",
       "    }\n",
       "\n",
       "    .dataframe thead th {\n",
       "        text-align: right;\n",
       "    }\n",
       "</style>\n",
       "<table border=\"1\" class=\"dataframe\">\n",
       "  <thead>\n",
       "    <tr style=\"text-align: right;\">\n",
       "      <th></th>\n",
       "      <th>PassengerId</th>\n",
       "      <th>Survived</th>\n",
       "      <th>Pclass</th>\n",
       "      <th>Name</th>\n",
       "      <th>Sex</th>\n",
       "      <th>Age</th>\n",
       "      <th>SibSp</th>\n",
       "      <th>Parch</th>\n",
       "      <th>Ticket</th>\n",
       "      <th>Fare</th>\n",
       "      <th>Cabin</th>\n",
       "      <th>Embarked</th>\n",
       "    </tr>\n",
       "  </thead>\n",
       "  <tbody>\n",
       "    <tr>\n",
       "      <th>0</th>\n",
       "      <td>343</td>\n",
       "      <td>No</td>\n",
       "      <td>2</td>\n",
       "      <td>Collander, Mr. Erik Gustaf</td>\n",
       "      <td>male</td>\n",
       "      <td>28.0</td>\n",
       "      <td>0</td>\n",
       "      <td>0</td>\n",
       "      <td>248740</td>\n",
       "      <td>13.0000</td>\n",
       "      <td>G6</td>\n",
       "      <td>S</td>\n",
       "    </tr>\n",
       "    <tr>\n",
       "      <th>1</th>\n",
       "      <td>76</td>\n",
       "      <td>No</td>\n",
       "      <td>3</td>\n",
       "      <td>Moen, Mr. Sigurd Hansen</td>\n",
       "      <td>male</td>\n",
       "      <td>25.0</td>\n",
       "      <td>0</td>\n",
       "      <td>0</td>\n",
       "      <td>348123</td>\n",
       "      <td>7.6500</td>\n",
       "      <td>F G73</td>\n",
       "      <td>S</td>\n",
       "    </tr>\n",
       "    <tr>\n",
       "      <th>2</th>\n",
       "      <td>641</td>\n",
       "      <td>No</td>\n",
       "      <td>3</td>\n",
       "      <td>Jensen, Mr. Hans Peder</td>\n",
       "      <td>male</td>\n",
       "      <td>20.0</td>\n",
       "      <td>0</td>\n",
       "      <td>0</td>\n",
       "      <td>350050</td>\n",
       "      <td>7.8542</td>\n",
       "      <td>G6</td>\n",
       "      <td>S</td>\n",
       "    </tr>\n",
       "    <tr>\n",
       "      <th>3</th>\n",
       "      <td>568</td>\n",
       "      <td>No</td>\n",
       "      <td>3</td>\n",
       "      <td>Palsson, Mrs. Nils (Alma Cornelia Berglund)</td>\n",
       "      <td>female</td>\n",
       "      <td>29.0</td>\n",
       "      <td>0</td>\n",
       "      <td>4</td>\n",
       "      <td>349909</td>\n",
       "      <td>21.0750</td>\n",
       "      <td>G6</td>\n",
       "      <td>S</td>\n",
       "    </tr>\n",
       "    <tr>\n",
       "      <th>4</th>\n",
       "      <td>672</td>\n",
       "      <td>No</td>\n",
       "      <td>1</td>\n",
       "      <td>Davidson, Mr. Thornton</td>\n",
       "      <td>male</td>\n",
       "      <td>31.0</td>\n",
       "      <td>1</td>\n",
       "      <td>0</td>\n",
       "      <td>F.C. 12750</td>\n",
       "      <td>52.0000</td>\n",
       "      <td>B71</td>\n",
       "      <td>S</td>\n",
       "    </tr>\n",
       "  </tbody>\n",
       "</table>\n",
       "</div>"
      ],
      "text/plain": [
       "   PassengerId Survived  Pclass                                         Name  \\\n",
       "0          343       No       2                   Collander, Mr. Erik Gustaf   \n",
       "1           76       No       3                      Moen, Mr. Sigurd Hansen   \n",
       "2          641       No       3                       Jensen, Mr. Hans Peder   \n",
       "3          568       No       3  Palsson, Mrs. Nils (Alma Cornelia Berglund)   \n",
       "4          672       No       1                       Davidson, Mr. Thornton   \n",
       "\n",
       "      Sex   Age  SibSp  Parch      Ticket     Fare  Cabin Embarked  \n",
       "0    male  28.0      0      0      248740  13.0000     G6        S  \n",
       "1    male  25.0      0      0      348123   7.6500  F G73        S  \n",
       "2    male  20.0      0      0      350050   7.8542     G6        S  \n",
       "3  female  29.0      0      4      349909  21.0750     G6        S  \n",
       "4    male  31.0      1      0  F.C. 12750  52.0000    B71        S  "
      ]
     },
     "execution_count": 6,
     "metadata": {},
     "output_type": "execute_result"
    }
   ],
   "source": [
    "df[\"Age\"].fillna(df[\"Age\"].mean(),inplace =True)\n",
    "df[\"Cabin\"].fillna(\"G6\",inplace = True)\n",
    "df[\"Embarked\"].fillna(\"S\",inplace = True)\n",
    "df.head()"
   ]
  },
  {
   "cell_type": "code",
   "execution_count": 7,
   "id": "f6769080",
   "metadata": {},
   "outputs": [
    {
     "data": {
      "text/plain": [
       "PassengerId    0\n",
       "Survived       0\n",
       "Pclass         0\n",
       "Name           0\n",
       "Sex            0\n",
       "Age            0\n",
       "SibSp          0\n",
       "Parch          0\n",
       "Ticket         0\n",
       "Fare           0\n",
       "Cabin          0\n",
       "Embarked       0\n",
       "dtype: int64"
      ]
     },
     "execution_count": 7,
     "metadata": {},
     "output_type": "execute_result"
    }
   ],
   "source": [
    "df.isnull().sum()"
   ]
  },
  {
   "cell_type": "markdown",
   "id": "b103d4cd",
   "metadata": {},
   "source": [
    "# Transformation des données categorielles en données numeriques\n",
    "## A chaud 1: Mr, 0:Mrs\n",
    "## survived 0: non, 1:oui"
   ]
  },
  {
   "cell_type": "code",
   "execution_count": 8,
   "id": "ccffc9f4",
   "metadata": {
    "scrolled": true
   },
   "outputs": [
    {
     "data": {
      "text/html": [
       "<div>\n",
       "<style scoped>\n",
       "    .dataframe tbody tr th:only-of-type {\n",
       "        vertical-align: middle;\n",
       "    }\n",
       "\n",
       "    .dataframe tbody tr th {\n",
       "        vertical-align: top;\n",
       "    }\n",
       "\n",
       "    .dataframe thead th {\n",
       "        text-align: right;\n",
       "    }\n",
       "</style>\n",
       "<table border=\"1\" class=\"dataframe\">\n",
       "  <thead>\n",
       "    <tr style=\"text-align: right;\">\n",
       "      <th></th>\n",
       "      <th>PassengerId</th>\n",
       "      <th>Survived</th>\n",
       "      <th>Pclass</th>\n",
       "      <th>Name</th>\n",
       "      <th>Sex</th>\n",
       "      <th>Age</th>\n",
       "      <th>SibSp</th>\n",
       "      <th>Parch</th>\n",
       "      <th>Ticket</th>\n",
       "      <th>Fare</th>\n",
       "      <th>Cabin</th>\n",
       "      <th>Embarked</th>\n",
       "    </tr>\n",
       "  </thead>\n",
       "  <tbody>\n",
       "    <tr>\n",
       "      <th>0</th>\n",
       "      <td>343</td>\n",
       "      <td>0</td>\n",
       "      <td>2</td>\n",
       "      <td>Collander, Mr. Erik Gustaf</td>\n",
       "      <td>1</td>\n",
       "      <td>28.0</td>\n",
       "      <td>0</td>\n",
       "      <td>0</td>\n",
       "      <td>159</td>\n",
       "      <td>13.0000</td>\n",
       "      <td>145</td>\n",
       "      <td>S</td>\n",
       "    </tr>\n",
       "    <tr>\n",
       "      <th>1</th>\n",
       "      <td>76</td>\n",
       "      <td>0</td>\n",
       "      <td>3</td>\n",
       "      <td>Moen, Mr. Sigurd Hansen</td>\n",
       "      <td>1</td>\n",
       "      <td>25.0</td>\n",
       "      <td>0</td>\n",
       "      <td>0</td>\n",
       "      <td>347</td>\n",
       "      <td>7.6500</td>\n",
       "      <td>140</td>\n",
       "      <td>S</td>\n",
       "    </tr>\n",
       "    <tr>\n",
       "      <th>2</th>\n",
       "      <td>641</td>\n",
       "      <td>0</td>\n",
       "      <td>3</td>\n",
       "      <td>Jensen, Mr. Hans Peder</td>\n",
       "      <td>1</td>\n",
       "      <td>20.0</td>\n",
       "      <td>0</td>\n",
       "      <td>0</td>\n",
       "      <td>409</td>\n",
       "      <td>7.8542</td>\n",
       "      <td>145</td>\n",
       "      <td>S</td>\n",
       "    </tr>\n",
       "    <tr>\n",
       "      <th>3</th>\n",
       "      <td>568</td>\n",
       "      <td>0</td>\n",
       "      <td>3</td>\n",
       "      <td>Palsson, Mrs. Nils (Alma Cornelia Berglund)</td>\n",
       "      <td>0</td>\n",
       "      <td>29.0</td>\n",
       "      <td>0</td>\n",
       "      <td>4</td>\n",
       "      <td>395</td>\n",
       "      <td>21.0750</td>\n",
       "      <td>145</td>\n",
       "      <td>S</td>\n",
       "    </tr>\n",
       "    <tr>\n",
       "      <th>4</th>\n",
       "      <td>672</td>\n",
       "      <td>0</td>\n",
       "      <td>1</td>\n",
       "      <td>Davidson, Mr. Thornton</td>\n",
       "      <td>1</td>\n",
       "      <td>31.0</td>\n",
       "      <td>1</td>\n",
       "      <td>0</td>\n",
       "      <td>569</td>\n",
       "      <td>52.0000</td>\n",
       "      <td>38</td>\n",
       "      <td>S</td>\n",
       "    </tr>\n",
       "  </tbody>\n",
       "</table>\n",
       "</div>"
      ],
      "text/plain": [
       "   PassengerId  Survived  Pclass                                         Name  \\\n",
       "0          343         0       2                   Collander, Mr. Erik Gustaf   \n",
       "1           76         0       3                      Moen, Mr. Sigurd Hansen   \n",
       "2          641         0       3                       Jensen, Mr. Hans Peder   \n",
       "3          568         0       3  Palsson, Mrs. Nils (Alma Cornelia Berglund)   \n",
       "4          672         0       1                       Davidson, Mr. Thornton   \n",
       "\n",
       "   Sex   Age  SibSp  Parch  Ticket     Fare  Cabin Embarked  \n",
       "0    1  28.0      0      0     159  13.0000    145        S  \n",
       "1    1  25.0      0      0     347   7.6500    140        S  \n",
       "2    1  20.0      0      0     409   7.8542    145        S  \n",
       "3    0  29.0      0      4     395  21.0750    145        S  \n",
       "4    1  31.0      1      0     569  52.0000     38        S  "
      ]
     },
     "execution_count": 8,
     "metadata": {},
     "output_type": "execute_result"
    }
   ],
   "source": [
    "from sklearn.preprocessing import LabelEncoder\n",
    "encoder=LabelEncoder()\n",
    "df[\"Sex\"]=encoder.fit_transform(df[\"Sex\"])\n",
    "df[\"Cabin\"]=encoder.fit_transform(df[\"Cabin\"])\n",
    "df[\"Ticket\"]=encoder.fit_transform(df[\"Ticket\"])\n",
    "df[\"Survived\"]=encoder.fit_transform(df[\"Survived\"])\n",
    "df.head()"
   ]
  },
  {
   "cell_type": "markdown",
   "id": "88e9eb08",
   "metadata": {},
   "source": [
    "# 2. Phase de Visualisation\n"
   ]
  },
  {
   "cell_type": "markdown",
   "id": "3920c753",
   "metadata": {},
   "source": [
    "# la distrubition de l'age, des classes, des tickets et sex\n"
   ]
  },
  {
   "cell_type": "code",
   "execution_count": 9,
   "id": "7d641c75",
   "metadata": {},
   "outputs": [
    {
     "data": {
      "text/plain": [
       "<AxesSubplot:title={'center':'histogramme des ages'}, xlabel='Age', ylabel='Frequency'>"
      ]
     },
     "execution_count": 9,
     "metadata": {},
     "output_type": "execute_result"
    },
    {
     "data": {
      "image/png": "[encoded data removed]",
      "text/plain": [
       "<Figure size 640x480 with 1 Axes>"
      ]
     },
     "metadata": {},
     "output_type": "display_data"
    }
   ],
   "source": [
    "import matplotlib.pyplot as plt\n",
    "plt.title(\"histogramme des ages\")\n",
    "plt.xlabel(\"Age\")\n",
    "df[\"Age\"].plot.hist(color = \"blue\")"
   ]
  },
  {
   "cell_type": "code",
   "execution_count": 10,
   "id": "7a241cc1",
   "metadata": {},
   "outputs": [
    {
     "data": {
      "text/plain": [
       "<AxesSubplot:title={'center':'histogramme des classes'}, xlabel='Pclass', ylabel='Frequency'>"
      ]
     },
     "execution_count": 10,
     "metadata": {},
     "output_type": "execute_result"
    },
    {
     "data": {
      "image/png": "[encoded data removed]",
      "text/plain": [
       "<Figure size 640x480 with 1 Axes>"
      ]
     },
     "metadata": {},
     "output_type": "display_data"
    }
   ],
   "source": [
    "plt.title(\"histogramme des classes\")\n",
    "plt.xlabel(\"Pclass\")\n",
    "df[\"Pclass\"].plot.hist(color = \"red\")\n",
    "\n"
   ]
  },
  {
   "cell_type": "code",
   "execution_count": 11,
   "id": "6aed2503",
   "metadata": {},
   "outputs": [
    {
     "data": {
      "text/plain": [
       "<AxesSubplot:title={'center':'histogramme des prix de tickets'}, xlabel='Fare', ylabel='Frequency'>"
      ]
     },
     "execution_count": 11,
     "metadata": {},
     "output_type": "execute_result"
    },
    {
     "data": {
      "image/png": "[encoded data removed]",
      "text/plain": [
       "<Figure size 640x480 with 1 Axes>"
      ]
     },
     "metadata": {},
     "output_type": "display_data"
    }
   ],
   "source": [
    "plt.title(\"histogramme des prix de tickets\")\n",
    "plt.xlabel(\"Fare\")\n",
    "df[\"Fare\"].plot.hist(color = \"blue\")"
   ]
  },
  {
   "cell_type": "code",
   "execution_count": 12,
   "id": "5e9ca716",
   "metadata": {},
   "outputs": [
    {
     "data": {
      "text/plain": [
       "<AxesSubplot:ylabel='Sex'>"
      ]
     },
     "execution_count": 12,
     "metadata": {},
     "output_type": "execute_result"
    },
    {
     "data": {
      "image/png": "[encoded data removed]",
      "text/plain": [
       "<Figure size 640x480 with 1 Axes>"
      ]
     },
     "metadata": {},
     "output_type": "display_data"
    }
   ],
   "source": [
    "df.Sex.value_counts().plot(kind=\"pie\")"
   ]
  },
  {
   "cell_type": "code",
   "execution_count": 13,
   "id": "450db818",
   "metadata": {},
   "outputs": [
    {
     "data": {
      "text/plain": [
       "<AxesSubplot:ylabel='Survived'>"
      ]
     },
     "execution_count": 13,
     "metadata": {},
     "output_type": "execute_result"
    },
    {
     "data": {
      "image/png": "[encoded data removed]",
      "text/plain": [
       "<Figure size 640x480 with 1 Axes>"
      ]
     },
     "metadata": {},
     "output_type": "display_data"
    }
   ],
   "source": [
    "df.Survived.value_counts().plot(kind=\"pie\")"
   ]
  },
  {
   "cell_type": "markdown",
   "id": "7b311713",
   "metadata": {},
   "source": [
    "# La corrélation entre le sexe et l’âge"
   ]
  },
  {
   "cell_type": "code",
   "execution_count": 14,
   "id": "3eb4d308",
   "metadata": {},
   "outputs": [
    {
     "data": {
      "text/plain": [
       "<seaborn.axisgrid.FacetGrid at 0x23f0fa56b90>"
      ]
     },
     "execution_count": 14,
     "metadata": {},
     "output_type": "execute_result"
    },
    {
     "data": {
      "image/png": "[encoded data removed]",
      "text/plain": [
       "<Figure size 572.111x500 with 1 Axes>"
      ]
     },
     "metadata": {},
     "output_type": "display_data"
    }
   ],
   "source": [
    "import seaborn as sns\n",
    "sns.displot(data = df, x=\"Sex\", y=\"Age\",hue = \"Survived\")"
   ]
  },
  {
   "cell_type": "markdown",
   "id": "0a740106",
   "metadata": {
    "scrolled": true
   },
   "source": [
    "## L'impact de la classe et l'embarquement sur la survie "
   ]
  },
  {
   "cell_type": "code",
   "execution_count": 15,
   "id": "450ca9c7",
   "metadata": {},
   "outputs": [
    {
     "data": {
      "text/plain": [
       "<seaborn.axisgrid.FacetGrid at 0x23f0fd17160>"
      ]
     },
     "execution_count": 15,
     "metadata": {},
     "output_type": "execute_result"
    },
    {
     "data": {
      "image/png": "[encoded data removed]",
      "text/plain": [
       "<Figure size 600x300 with 2 Axes>"
      ]
     },
     "metadata": {},
     "output_type": "display_data"
    }
   ],
   "source": [
    "import seaborn as sns\n",
    "grid = sns.FacetGrid(df,col =\"Survived\")\n",
    "grid.map(sns.barplot,\"Embarked\",\"Pclass\",order = None)\n"
   ]
  },
  {
   "cell_type": "code",
   "execution_count": 16,
   "id": "ab778a92",
   "metadata": {},
   "outputs": [],
   "source": [
    "def plot_correlation_map( df ):\n",
    "\n",
    "    corr = df.corr()\n",
    "\n",
    "    s , ax = plt.subplots( figsize =( 12 , 10 ) )\n",
    "\n",
    "    cmap = sns.diverging_palette( 220 , 10 , as_cmap = True )\n",
    "\n",
    "    s = sns.heatmap(\n",
    "\n",
    "        corr, \n",
    "\n",
    "        cmap = cmap,\n",
    "\n",
    "        square=True, \n",
    "\n",
    "        cbar_kws={ 'shrink' : .9 }, \n",
    "\n",
    "        ax=ax, \n",
    "\n",
    "        annot = True, \n",
    "\n",
    "        annot_kws = { 'fontsize' : 12 }\n",
    "\n",
    "        )"
   ]
  },
  {
   "cell_type": "code",
   "execution_count": 17,
   "id": "1f444522",
   "metadata": {},
   "outputs": [
    {
     "data": {
      "image/png": "[encoded data removed]",
      "text/plain": [
       "<Figure size 1200x1000 with 2 Axes>"
      ]
     },
     "metadata": {},
     "output_type": "display_data"
    }
   ],
   "source": [
    "plot_correlation_map(df)"
   ]
  },
  {
   "cell_type": "markdown",
   "id": "2cc02e72",
   "metadata": {},
   "source": [
    "## Positive correlations are displayed in red and negative correlations in blue. The intensity of the color is proportional to the correlation coefficients. To the right of the correlogram, the color legend shows the correlation coefficients and the corresponding colors."
   ]
  },
  {
   "cell_type": "markdown",
   "id": "d2dc4644",
   "metadata": {},
   "source": [
    "##  afficher la relation entre Pclass et survived par groupby"
   ]
  },
  {
   "cell_type": "code",
   "execution_count": 18,
   "id": "b525461c",
   "metadata": {},
   "outputs": [
    {
     "data": {
      "text/html": [
       "<div>\n",
       "<style scoped>\n",
       "    .dataframe tbody tr th:only-of-type {\n",
       "        vertical-align: middle;\n",
       "    }\n",
       "\n",
       "    .dataframe tbody tr th {\n",
       "        vertical-align: top;\n",
       "    }\n",
       "\n",
       "    .dataframe thead th {\n",
       "        text-align: right;\n",
       "    }\n",
       "</style>\n",
       "<table border=\"1\" class=\"dataframe\">\n",
       "  <thead>\n",
       "    <tr style=\"text-align: right;\">\n",
       "      <th></th>\n",
       "      <th>Survived</th>\n",
       "    </tr>\n",
       "    <tr>\n",
       "      <th>Pclass</th>\n",
       "      <th></th>\n",
       "    </tr>\n",
       "  </thead>\n",
       "  <tbody>\n",
       "    <tr>\n",
       "      <th>1</th>\n",
       "      <td>0.629630</td>\n",
       "    </tr>\n",
       "    <tr>\n",
       "      <th>2</th>\n",
       "      <td>0.472826</td>\n",
       "    </tr>\n",
       "    <tr>\n",
       "      <th>3</th>\n",
       "      <td>0.242363</td>\n",
       "    </tr>\n",
       "  </tbody>\n",
       "</table>\n",
       "</div>"
      ],
      "text/plain": [
       "        Survived\n",
       "Pclass          \n",
       "1       0.629630\n",
       "2       0.472826\n",
       "3       0.242363"
      ]
     },
     "execution_count": 18,
     "metadata": {},
     "output_type": "execute_result"
    }
   ],
   "source": [
    "cleanup={\"Survived\":{\"Yes\":1,\"No\":0}}\n",
    "df.replace(cleanup,inplace=True)\n",
    "df[[\"Pclass\",\"Survived\"]].groupby([\"Pclass\"],as_index=True).mean()"
   ]
  },
  {
   "cell_type": "markdown",
   "id": "76c9d46b",
   "metadata": {},
   "source": [
    "## Supprimer les colonnes inutiles"
   ]
  },
  {
   "cell_type": "code",
   "execution_count": 19,
   "id": "f1437387",
   "metadata": {},
   "outputs": [],
   "source": [
    " #df =df.drop(columns =[\"Name\",\"Parch\",\"SibSp\"],axis=1)"
   ]
  },
  {
   "cell_type": "code",
   "execution_count": 20,
   "id": "7d7c1914",
   "metadata": {},
   "outputs": [
    {
     "data": {
      "text/html": [
       "<div>\n",
       "<style scoped>\n",
       "    .dataframe tbody tr th:only-of-type {\n",
       "        vertical-align: middle;\n",
       "    }\n",
       "\n",
       "    .dataframe tbody tr th {\n",
       "        vertical-align: top;\n",
       "    }\n",
       "\n",
       "    .dataframe thead th {\n",
       "        text-align: right;\n",
       "    }\n",
       "</style>\n",
       "<table border=\"1\" class=\"dataframe\">\n",
       "  <thead>\n",
       "    <tr style=\"text-align: right;\">\n",
       "      <th></th>\n",
       "      <th>PassengerId</th>\n",
       "      <th>Survived</th>\n",
       "      <th>Pclass</th>\n",
       "      <th>Name</th>\n",
       "      <th>Sex</th>\n",
       "      <th>Age</th>\n",
       "      <th>SibSp</th>\n",
       "      <th>Parch</th>\n",
       "      <th>Ticket</th>\n",
       "      <th>Fare</th>\n",
       "      <th>Cabin</th>\n",
       "      <th>Embarked</th>\n",
       "    </tr>\n",
       "  </thead>\n",
       "  <tbody>\n",
       "    <tr>\n",
       "      <th>0</th>\n",
       "      <td>343</td>\n",
       "      <td>0</td>\n",
       "      <td>2</td>\n",
       "      <td>Collander, Mr. Erik Gustaf</td>\n",
       "      <td>1</td>\n",
       "      <td>28.0</td>\n",
       "      <td>0</td>\n",
       "      <td>0</td>\n",
       "      <td>159</td>\n",
       "      <td>13.0000</td>\n",
       "      <td>145</td>\n",
       "      <td>S</td>\n",
       "    </tr>\n",
       "    <tr>\n",
       "      <th>1</th>\n",
       "      <td>76</td>\n",
       "      <td>0</td>\n",
       "      <td>3</td>\n",
       "      <td>Moen, Mr. Sigurd Hansen</td>\n",
       "      <td>1</td>\n",
       "      <td>25.0</td>\n",
       "      <td>0</td>\n",
       "      <td>0</td>\n",
       "      <td>347</td>\n",
       "      <td>7.6500</td>\n",
       "      <td>140</td>\n",
       "      <td>S</td>\n",
       "    </tr>\n",
       "    <tr>\n",
       "      <th>2</th>\n",
       "      <td>641</td>\n",
       "      <td>0</td>\n",
       "      <td>3</td>\n",
       "      <td>Jensen, Mr. Hans Peder</td>\n",
       "      <td>1</td>\n",
       "      <td>20.0</td>\n",
       "      <td>0</td>\n",
       "      <td>0</td>\n",
       "      <td>409</td>\n",
       "      <td>7.8542</td>\n",
       "      <td>145</td>\n",
       "      <td>S</td>\n",
       "    </tr>\n",
       "    <tr>\n",
       "      <th>3</th>\n",
       "      <td>568</td>\n",
       "      <td>0</td>\n",
       "      <td>3</td>\n",
       "      <td>Palsson, Mrs. Nils (Alma Cornelia Berglund)</td>\n",
       "      <td>0</td>\n",
       "      <td>29.0</td>\n",
       "      <td>0</td>\n",
       "      <td>4</td>\n",
       "      <td>395</td>\n",
       "      <td>21.0750</td>\n",
       "      <td>145</td>\n",
       "      <td>S</td>\n",
       "    </tr>\n",
       "    <tr>\n",
       "      <th>4</th>\n",
       "      <td>672</td>\n",
       "      <td>0</td>\n",
       "      <td>1</td>\n",
       "      <td>Davidson, Mr. Thornton</td>\n",
       "      <td>1</td>\n",
       "      <td>31.0</td>\n",
       "      <td>1</td>\n",
       "      <td>0</td>\n",
       "      <td>569</td>\n",
       "      <td>52.0000</td>\n",
       "      <td>38</td>\n",
       "      <td>S</td>\n",
       "    </tr>\n",
       "  </tbody>\n",
       "</table>\n",
       "</div>"
      ],
      "text/plain": [
       "   PassengerId  Survived  Pclass                                         Name  \\\n",
       "0          343         0       2                   Collander, Mr. Erik Gustaf   \n",
       "1           76         0       3                      Moen, Mr. Sigurd Hansen   \n",
       "2          641         0       3                       Jensen, Mr. Hans Peder   \n",
       "3          568         0       3  Palsson, Mrs. Nils (Alma Cornelia Berglund)   \n",
       "4          672         0       1                       Davidson, Mr. Thornton   \n",
       "\n",
       "   Sex   Age  SibSp  Parch  Ticket     Fare  Cabin Embarked  \n",
       "0    1  28.0      0      0     159  13.0000    145        S  \n",
       "1    1  25.0      0      0     347   7.6500    140        S  \n",
       "2    1  20.0      0      0     409   7.8542    145        S  \n",
       "3    0  29.0      0      4     395  21.0750    145        S  \n",
       "4    1  31.0      1      0     569  52.0000     38        S  "
      ]
     },
     "execution_count": 20,
     "metadata": {},
     "output_type": "execute_result"
    }
   ],
   "source": [
    "df.head()"
   ]
  },
  {
   "cell_type": "markdown",
   "id": "c08a767a",
   "metadata": {},
   "source": [
    "## créer une nouvelle colonne appelée Title qui contient le titre approprié pour chaque individu"
   ]
  },
  {
   "cell_type": "code",
   "execution_count": 21,
   "id": "08b647be",
   "metadata": {},
   "outputs": [],
   "source": [
    "data = [df]\n",
    "titles = {\"Mr\": 1, \"Miss\": 2, \"Mrs\": 3, \"Master\": 4, \"Rare\": 5}\n",
    "\n",
    "for dataset in data:\n",
    "    # extract titles\n",
    "    dataset['Title'] = dataset.Name.str.extract(' ([A-Za-z]+)\\.', expand=False)\n",
    "    # remplacer les titres par un titre plus courant ou comme Rare\n",
    "    dataset['Title'] = dataset['Title'].replace(['Lady', 'Countess','Capt', 'Col','Don', 'Dr',\\\n",
    "                                            'Major', 'Rev', 'Sir', 'Jonkheer', 'Dona'], 'Rare')\n",
    "    dataset['Title'] = dataset['Title'].replace('Mlle', 'Miss')\n",
    "    dataset['Title'] = dataset['Title'].replace('Ms', 'Miss')\n",
    "    dataset['Title'] = dataset['Title'].replace('Mme', 'Mrs')\n",
    "    df =df.drop(columns =[\"Name\"],axis=1)"
   ]
  },
  {
   "cell_type": "code",
   "execution_count": 22,
   "id": "0277646e",
   "metadata": {},
   "outputs": [
    {
     "data": {
      "text/html": [
       "<div>\n",
       "<style scoped>\n",
       "    .dataframe tbody tr th:only-of-type {\n",
       "        vertical-align: middle;\n",
       "    }\n",
       "\n",
       "    .dataframe tbody tr th {\n",
       "        vertical-align: top;\n",
       "    }\n",
       "\n",
       "    .dataframe thead th {\n",
       "        text-align: right;\n",
       "    }\n",
       "</style>\n",
       "<table border=\"1\" class=\"dataframe\">\n",
       "  <thead>\n",
       "    <tr style=\"text-align: right;\">\n",
       "      <th></th>\n",
       "      <th>PassengerId</th>\n",
       "      <th>Survived</th>\n",
       "      <th>Pclass</th>\n",
       "      <th>Sex</th>\n",
       "      <th>Age</th>\n",
       "      <th>SibSp</th>\n",
       "      <th>Parch</th>\n",
       "      <th>Ticket</th>\n",
       "      <th>Fare</th>\n",
       "      <th>Cabin</th>\n",
       "      <th>Embarked</th>\n",
       "      <th>Title</th>\n",
       "    </tr>\n",
       "  </thead>\n",
       "  <tbody>\n",
       "    <tr>\n",
       "      <th>0</th>\n",
       "      <td>343</td>\n",
       "      <td>0</td>\n",
       "      <td>2</td>\n",
       "      <td>1</td>\n",
       "      <td>28.0</td>\n",
       "      <td>0</td>\n",
       "      <td>0</td>\n",
       "      <td>159</td>\n",
       "      <td>13.0000</td>\n",
       "      <td>145</td>\n",
       "      <td>S</td>\n",
       "      <td>Mr</td>\n",
       "    </tr>\n",
       "    <tr>\n",
       "      <th>1</th>\n",
       "      <td>76</td>\n",
       "      <td>0</td>\n",
       "      <td>3</td>\n",
       "      <td>1</td>\n",
       "      <td>25.0</td>\n",
       "      <td>0</td>\n",
       "      <td>0</td>\n",
       "      <td>347</td>\n",
       "      <td>7.6500</td>\n",
       "      <td>140</td>\n",
       "      <td>S</td>\n",
       "      <td>Mr</td>\n",
       "    </tr>\n",
       "    <tr>\n",
       "      <th>2</th>\n",
       "      <td>641</td>\n",
       "      <td>0</td>\n",
       "      <td>3</td>\n",
       "      <td>1</td>\n",
       "      <td>20.0</td>\n",
       "      <td>0</td>\n",
       "      <td>0</td>\n",
       "      <td>409</td>\n",
       "      <td>7.8542</td>\n",
       "      <td>145</td>\n",
       "      <td>S</td>\n",
       "      <td>Mr</td>\n",
       "    </tr>\n",
       "    <tr>\n",
       "      <th>3</th>\n",
       "      <td>568</td>\n",
       "      <td>0</td>\n",
       "      <td>3</td>\n",
       "      <td>0</td>\n",
       "      <td>29.0</td>\n",
       "      <td>0</td>\n",
       "      <td>4</td>\n",
       "      <td>395</td>\n",
       "      <td>21.0750</td>\n",
       "      <td>145</td>\n",
       "      <td>S</td>\n",
       "      <td>Mrs</td>\n",
       "    </tr>\n",
       "    <tr>\n",
       "      <th>4</th>\n",
       "      <td>672</td>\n",
       "      <td>0</td>\n",
       "      <td>1</td>\n",
       "      <td>1</td>\n",
       "      <td>31.0</td>\n",
       "      <td>1</td>\n",
       "      <td>0</td>\n",
       "      <td>569</td>\n",
       "      <td>52.0000</td>\n",
       "      <td>38</td>\n",
       "      <td>S</td>\n",
       "      <td>Mr</td>\n",
       "    </tr>\n",
       "    <tr>\n",
       "      <th>5</th>\n",
       "      <td>105</td>\n",
       "      <td>0</td>\n",
       "      <td>3</td>\n",
       "      <td>1</td>\n",
       "      <td>37.0</td>\n",
       "      <td>2</td>\n",
       "      <td>0</td>\n",
       "      <td>245</td>\n",
       "      <td>7.9250</td>\n",
       "      <td>145</td>\n",
       "      <td>S</td>\n",
       "      <td>Mr</td>\n",
       "    </tr>\n",
       "    <tr>\n",
       "      <th>6</th>\n",
       "      <td>576</td>\n",
       "      <td>0</td>\n",
       "      <td>3</td>\n",
       "      <td>1</td>\n",
       "      <td>19.0</td>\n",
       "      <td>0</td>\n",
       "      <td>0</td>\n",
       "      <td>420</td>\n",
       "      <td>14.5000</td>\n",
       "      <td>145</td>\n",
       "      <td>S</td>\n",
       "      <td>Mr</td>\n",
       "    </tr>\n",
       "    <tr>\n",
       "      <th>7</th>\n",
       "      <td>382</td>\n",
       "      <td>1</td>\n",
       "      <td>3</td>\n",
       "      <td>0</td>\n",
       "      <td>1.0</td>\n",
       "      <td>0</td>\n",
       "      <td>2</td>\n",
       "      <td>187</td>\n",
       "      <td>15.7417</td>\n",
       "      <td>145</td>\n",
       "      <td>C</td>\n",
       "      <td>Miss</td>\n",
       "    </tr>\n",
       "  </tbody>\n",
       "</table>\n",
       "</div>"
      ],
      "text/plain": [
       "   PassengerId  Survived  Pclass  Sex   Age  SibSp  Parch  Ticket     Fare  \\\n",
       "0          343         0       2    1  28.0      0      0     159  13.0000   \n",
       "1           76         0       3    1  25.0      0      0     347   7.6500   \n",
       "2          641         0       3    1  20.0      0      0     409   7.8542   \n",
       "3          568         0       3    0  29.0      0      4     395  21.0750   \n",
       "4          672         0       1    1  31.0      1      0     569  52.0000   \n",
       "5          105         0       3    1  37.0      2      0     245   7.9250   \n",
       "6          576         0       3    1  19.0      0      0     420  14.5000   \n",
       "7          382         1       3    0   1.0      0      2     187  15.7417   \n",
       "\n",
       "   Cabin Embarked Title  \n",
       "0    145        S    Mr  \n",
       "1    140        S    Mr  \n",
       "2    145        S    Mr  \n",
       "3    145        S   Mrs  \n",
       "4     38        S    Mr  \n",
       "5    145        S    Mr  \n",
       "6    145        S    Mr  \n",
       "7    145        C  Miss  "
      ]
     },
     "execution_count": 22,
     "metadata": {},
     "output_type": "execute_result"
    }
   ],
   "source": [
    "df.head(8)"
   ]
  },
  {
   "cell_type": "markdown",
   "id": "2b7d8b65",
   "metadata": {},
   "source": [
    "## La correlation entre les titres et les ages"
   ]
  },
  {
   "cell_type": "code",
   "execution_count": 23,
   "id": "f15fe921",
   "metadata": {},
   "outputs": [
    {
     "data": {
      "text/plain": [
       "<AxesSubplot:xlabel='Title', ylabel='Age'>"
      ]
     },
     "execution_count": 23,
     "metadata": {},
     "output_type": "execute_result"
    },
    {
     "data": {
      "image/png": "[encoded data removed]",
      "text/plain": [
       "<Figure size 640x480 with 1 Axes>"
      ]
     },
     "metadata": {},
     "output_type": "display_data"
    }
   ],
   "source": [
    "import seaborn as sns\n",
    "sns.scatterplot(data = df, x=\"Title\", y=\"Age\")"
   ]
  },
  {
   "cell_type": "code",
   "execution_count": 24,
   "id": "fbbeafcb",
   "metadata": {},
   "outputs": [],
   "source": [
    "Title_Dictionary = {\n",
    "\n",
    "                    \"Capt\":       \"Officer\",\n",
    "\n",
    "                    \"Col\":        \"Officer\",\n",
    "\n",
    "                    \"Major\":      \"Officer\",\n",
    "\n",
    "                      \"Dr\":         \"Officer\",\n",
    "\n",
    "                    \"Rev\":        \"Officer\",\n",
    "\n",
    "                    \"Jonkheer\":   \"Royalty\",\n",
    "\n",
    "                    \"Don\":        \"Royalty\",\n",
    "\n",
    "                    \"Sir\" :       \"Royalty\",\n",
    "\n",
    "                   \"Lady\" :      \"Royalty\",\n",
    "\n",
    "                  \"the Countess\": \"Royalty\",\n",
    "\n",
    "                    \"Dona\":       \"Royalty\",\n",
    "\n",
    "                    \"Mme\":        \"Miss\",\n",
    "\n",
    "                    \"Mlle\":       \"Miss\",\n",
    "\n",
    "                    \"Miss\" :      \"Miss\",\n",
    "\n",
    "                    \"Ms\":         \"Mrs\",\n",
    "\n",
    "                    \"Mr\" :        \"Mrs\",\n",
    "\n",
    "                    \"Mrs\" :       \"Mrs\",\n",
    "\n",
    "                    \"Master\" :    \"Master\"\n",
    "\n",
    "}"
   ]
  },
  {
   "cell_type": "markdown",
   "id": "6eb94825",
   "metadata": {},
   "source": [
    "## les mêmes corrélations en utilisant ces nouveaux titres"
   ]
  },
  {
   "cell_type": "code",
   "execution_count": 25,
   "id": "4d88022a",
   "metadata": {},
   "outputs": [],
   "source": [
    "#import seaborn as sns\n",
    "#sns.displot(data = df, x=\"Title_Dictionary\", y=\"Age\")\n",
    "#Erreur : Could not interpret value `Title_Dictionary` for parameter `x`"
   ]
  },
  {
   "cell_type": "markdown",
   "id": "ed6791e2",
   "metadata": {},
   "source": [
    "## use the Parch and the SibSp columns to create a more useful feature\n",
    "## Pour chaque rangée/passager, nous déterminerons la taille de sa famille en ajoutant SibSp + Parch + 1 (lui-même)"
   ]
  },
  {
   "cell_type": "code",
   "execution_count": 26,
   "id": "3942c0ed",
   "metadata": {},
   "outputs": [],
   "source": [
    "df['family_size'] = df[\"SibSp\"] + df[\"Parch\"] + 1\n"
   ]
  },
  {
   "cell_type": "code",
   "execution_count": 27,
   "id": "16b4d74a",
   "metadata": {},
   "outputs": [
    {
     "data": {
      "text/html": [
       "<div>\n",
       "<style scoped>\n",
       "    .dataframe tbody tr th:only-of-type {\n",
       "        vertical-align: middle;\n",
       "    }\n",
       "\n",
       "    .dataframe tbody tr th {\n",
       "        vertical-align: top;\n",
       "    }\n",
       "\n",
       "    .dataframe thead th {\n",
       "        text-align: right;\n",
       "    }\n",
       "</style>\n",
       "<table border=\"1\" class=\"dataframe\">\n",
       "  <thead>\n",
       "    <tr style=\"text-align: right;\">\n",
       "      <th></th>\n",
       "      <th>PassengerId</th>\n",
       "      <th>Survived</th>\n",
       "      <th>Pclass</th>\n",
       "      <th>Sex</th>\n",
       "      <th>Age</th>\n",
       "      <th>SibSp</th>\n",
       "      <th>Parch</th>\n",
       "      <th>Ticket</th>\n",
       "      <th>Fare</th>\n",
       "      <th>Cabin</th>\n",
       "      <th>Embarked</th>\n",
       "      <th>Title</th>\n",
       "      <th>family_size</th>\n",
       "    </tr>\n",
       "  </thead>\n",
       "  <tbody>\n",
       "    <tr>\n",
       "      <th>0</th>\n",
       "      <td>343</td>\n",
       "      <td>0</td>\n",
       "      <td>2</td>\n",
       "      <td>1</td>\n",
       "      <td>28.0</td>\n",
       "      <td>0</td>\n",
       "      <td>0</td>\n",
       "      <td>159</td>\n",
       "      <td>13.0000</td>\n",
       "      <td>145</td>\n",
       "      <td>S</td>\n",
       "      <td>Mr</td>\n",
       "      <td>1</td>\n",
       "    </tr>\n",
       "    <tr>\n",
       "      <th>1</th>\n",
       "      <td>76</td>\n",
       "      <td>0</td>\n",
       "      <td>3</td>\n",
       "      <td>1</td>\n",
       "      <td>25.0</td>\n",
       "      <td>0</td>\n",
       "      <td>0</td>\n",
       "      <td>347</td>\n",
       "      <td>7.6500</td>\n",
       "      <td>140</td>\n",
       "      <td>S</td>\n",
       "      <td>Mr</td>\n",
       "      <td>1</td>\n",
       "    </tr>\n",
       "    <tr>\n",
       "      <th>2</th>\n",
       "      <td>641</td>\n",
       "      <td>0</td>\n",
       "      <td>3</td>\n",
       "      <td>1</td>\n",
       "      <td>20.0</td>\n",
       "      <td>0</td>\n",
       "      <td>0</td>\n",
       "      <td>409</td>\n",
       "      <td>7.8542</td>\n",
       "      <td>145</td>\n",
       "      <td>S</td>\n",
       "      <td>Mr</td>\n",
       "      <td>1</td>\n",
       "    </tr>\n",
       "    <tr>\n",
       "      <th>3</th>\n",
       "      <td>568</td>\n",
       "      <td>0</td>\n",
       "      <td>3</td>\n",
       "      <td>0</td>\n",
       "      <td>29.0</td>\n",
       "      <td>0</td>\n",
       "      <td>4</td>\n",
       "      <td>395</td>\n",
       "      <td>21.0750</td>\n",
       "      <td>145</td>\n",
       "      <td>S</td>\n",
       "      <td>Mrs</td>\n",
       "      <td>5</td>\n",
       "    </tr>\n",
       "    <tr>\n",
       "      <th>4</th>\n",
       "      <td>672</td>\n",
       "      <td>0</td>\n",
       "      <td>1</td>\n",
       "      <td>1</td>\n",
       "      <td>31.0</td>\n",
       "      <td>1</td>\n",
       "      <td>0</td>\n",
       "      <td>569</td>\n",
       "      <td>52.0000</td>\n",
       "      <td>38</td>\n",
       "      <td>S</td>\n",
       "      <td>Mr</td>\n",
       "      <td>2</td>\n",
       "    </tr>\n",
       "  </tbody>\n",
       "</table>\n",
       "</div>"
      ],
      "text/plain": [
       "   PassengerId  Survived  Pclass  Sex   Age  SibSp  Parch  Ticket     Fare  \\\n",
       "0          343         0       2    1  28.0      0      0     159  13.0000   \n",
       "1           76         0       3    1  25.0      0      0     347   7.6500   \n",
       "2          641         0       3    1  20.0      0      0     409   7.8542   \n",
       "3          568         0       3    0  29.0      0      4     395  21.0750   \n",
       "4          672         0       1    1  31.0      1      0     569  52.0000   \n",
       "\n",
       "   Cabin Embarked Title  family_size  \n",
       "0    145        S    Mr            1  \n",
       "1    140        S    Mr            1  \n",
       "2    145        S    Mr            1  \n",
       "3    145        S   Mrs            5  \n",
       "4     38        S    Mr            2  "
      ]
     },
     "execution_count": 27,
     "metadata": {},
     "output_type": "execute_result"
    }
   ],
   "source": [
    "df.head()"
   ]
  },
  {
   "cell_type": "markdown",
   "id": "996b0e27",
   "metadata": {},
   "source": [
    "## Les deux colonnes sont SibSp et Parch, qui ne sont pas directement liées au fait qu'une personne ait survécu ou non mais oui cette fonctionalité est utile car cela semble avoir un bon effet sur notre prédiction.\n"
   ]
  },
  {
   "cell_type": "code",
   "execution_count": 28,
   "id": "d8d2616a",
   "metadata": {},
   "outputs": [
    {
     "name": "stdout",
     "output_type": "stream",
     "text": [
      "             Survived\n",
      "family_size          \n",
      "1            0.303538\n",
      "2            0.552795\n",
      "3            0.578431\n",
      "4            0.724138\n",
      "5            0.200000\n",
      "6            0.136364\n",
      "7            0.333333\n",
      "8            0.000000\n",
      "11           0.000000\n"
     ]
    }
   ],
   "source": [
    "print( df[[\"family_size\",\"Survived\"]].groupby([\"family_size\"], as_index = True).mean() )"
   ]
  },
  {
   "cell_type": "markdown",
   "id": "b98d92e1",
   "metadata": {},
   "source": [
    "## La taille de la famille varie d'un minimum de 1 à un maximum de 11, la taille de la famille de 4 ayant le taux de survie le plus élevé de 72 %."
   ]
  },
  {
   "cell_type": "markdown",
   "id": "64f972e9",
   "metadata": {},
   "source": [
    "## Ap supervisé"
   ]
  },
  {
   "cell_type": "markdown",
   "id": "e0dc0df1",
   "metadata": {},
   "source": [
    "### la regression logistique"
   ]
  },
  {
   "cell_type": "code",
   "execution_count": 29,
   "id": "15cb0b62",
   "metadata": {
    "scrolled": true
   },
   "outputs": [],
   "source": [
    "X =df[[\"Age\",\"Fare\",\"family_size\"]]\n",
    "y = df['Survived']\n",
    "X_train, X_test, y_train, y_test = train_test_split(X, y, test_size = 0.3, random_state = 4)"
   ]
  },
  {
   "cell_type": "code",
   "execution_count": 30,
   "id": "20088470",
   "metadata": {},
   "outputs": [],
   "source": [
    "lg = LogisticRegression()\n",
    "lg.fit(X_train, y_train)\n",
    "y_pred = lg.predict(X_test)"
   ]
  },
  {
   "cell_type": "code",
   "execution_count": 31,
   "id": "8bb1cc93",
   "metadata": {},
   "outputs": [
    {
     "name": "stdout",
     "output_type": "stream",
     "text": [
      "Accuracy=0.65\n"
     ]
    }
   ],
   "source": [
    "print(\"Accuracy={:.2f}\".format(lg.score(X_test, y_test)))"
   ]
  },
  {
   "cell_type": "code",
   "execution_count": 32,
   "id": "43852bb6",
   "metadata": {},
   "outputs": [
    {
     "name": "stdout",
     "output_type": "stream",
     "text": [
      "              precision    recall  f1-score   support\n",
      "\n",
      "           0       0.63      0.94      0.75       155\n",
      "           1       0.74      0.25      0.37       113\n",
      "\n",
      "    accuracy                           0.65       268\n",
      "   macro avg       0.68      0.59      0.56       268\n",
      "weighted avg       0.68      0.65      0.59       268\n",
      "\n"
     ]
    }
   ],
   "source": [
    "print(classification_report(y_test, y_pred))"
   ]
  },
  {
   "cell_type": "markdown",
   "id": "c74e0de7",
   "metadata": {},
   "source": [
    "### Nous avons obtenu une précision de 68 %. Voyons la matrice de confusion"
   ]
  },
  {
   "cell_type": "code",
   "execution_count": 33,
   "id": "0d12fdfb",
   "metadata": {},
   "outputs": [
    {
     "data": {
      "text/plain": [
       "<AxesSubplot:xlabel='col_0', ylabel='Survived'>"
      ]
     },
     "execution_count": 33,
     "metadata": {},
     "output_type": "execute_result"
    },
    {
     "data": {
      "image/png": "[encoded data removed]",
      "text/plain": [
       "<Figure size 640x480 with 2 Axes>"
      ]
     },
     "metadata": {},
     "output_type": "display_data"
    }
   ],
   "source": [
    "confusion_matrix = pd.crosstab(y_test, y_pred)\n",
    "sns.heatmap(confusion_matrix, annot=True)"
   ]
  },
  {
   "cell_type": "markdown",
   "id": "80df4a8c",
   "metadata": {},
   "source": [
    "### True positive: 140 (We predicted a positive result and it was positive)\n",
    "### True negative: 85 (We predicted a negative result and it was negative)\n",
    "### False positive: 10 (We predicted a positive result and it was negative)\n",
    "### False negative: 28 (We predicted a negative result and it was positive)"
   ]
  },
  {
   "cell_type": "markdown",
   "id": "b8ac5928",
   "metadata": {},
   "source": [
    "# s'il y'a des erreurs indiquez moi par ou j'ai du mal à lire la matrice de confusion"
   ]
  },
  {
   "cell_type": "code",
   "execution_count": null,
   "id": "376a4a01",
   "metadata": {},
   "outputs": [],
   "source": []
  },
  {
   "cell_type": "markdown",
   "id": "fc6f0ddd",
   "metadata": {},
   "source": [
    "# la classification ROC/AUC\n",
    "## Aire de calcul sous la courbe caractéristique de fonctionnement du récepteur (ROC AUC) \\à partir des scores de prédiction."
   ]
  },
  {
   "cell_type": "markdown",
   "id": "c80db6c7",
   "metadata": {},
   "source": [
    "### Une courbe ROC qui signifie courbe de «caractéristique de fonctionnement du récepteur».\n",
    "### Il s'agit d'un graphique qui affiche la sensibilité(\"taux de vrais positifs\") le long de l'axe y et (1 - spécificité(taux de vrai négatif)) le long de l'axe x."
   ]
  },
  {
   "cell_type": "markdown",
   "id": "8430a42a",
   "metadata": {},
   "source": [
    "### Une façon de quantifier la capacité du modèle de régression logistique à classer les données consiste à calculer l' AUC , qui signifie « aire sous la courbe ».\n",
    "### Plus l'AUC est proche de 1, meilleur est le modèle."
   ]
  },
  {
   "cell_type": "code",
   "execution_count": 42,
   "id": "936c78a1",
   "metadata": {},
   "outputs": [
    {
     "data": {
      "text/plain": [
       "0.5916357407936055"
      ]
     },
     "execution_count": 42,
     "metadata": {},
     "output_type": "execute_result"
    }
   ],
   "source": [
    "#calculate AUC of model\n",
    "auc = metrics.roc_auc_score(y_test, y_pred)\n",
    "auc"
   ]
  },
  {
   "cell_type": "markdown",
   "id": "c875f9d1",
   "metadata": {},
   "source": [
    "#### Le modèle a un score AUC de 0.5916, donc il est considéré comme médiocre pour classer les observations dans les bonnes classes."
   ]
  },
  {
   "cell_type": "code",
   "execution_count": null,
   "id": "494f1c7f",
   "metadata": {},
   "outputs": [],
   "source": []
  }
 ],
 "metadata": {
  "kernelspec": {
   "display_name": "Python 3 (ipykernel)",
   "language": "python",
   "name": "python3"
  },
  "language_info": {
   "codemirror_mode": {
    "name": "ipython",
    "version": 3
   },
   "file_extension": ".py",
   "mimetype": "text/x-python",
   "name": "python",
   "nbconvert_exporter": "python",
   "pygments_lexer": "ipython3",
   "version": "3.10.6"
  }
 },
 "nbformat": 4,
 "nbformat_minor": 5
}
